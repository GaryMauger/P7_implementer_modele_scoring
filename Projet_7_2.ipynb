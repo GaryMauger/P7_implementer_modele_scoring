{
 "cells": [
  {
   "cell_type": "markdown",
   "id": "f0851f35-dabe-4dc0-aa78-f341a2f72c6c",
   "metadata": {},
   "source": [
    "<center><span style=\"font-size:28px; font-weight:bold;\">Implementez un modèle de scoring</span><center>"
   ]
  },
  {
   "cell_type": "markdown",
   "id": "ea904f07-dbdd-42ef-9a91-2a05db218a77",
   "metadata": {},
   "source": [
    "<center><span style=\"font-size:28px; font-weight:bold;\">2 - Modélisation</span><center>"
   ]
  },
  {
   "cell_type": "markdown",
   "id": "bb20fc99-7e0c-4447-b776-f44fce2bbc91",
   "metadata": {},
   "source": []
  },
  {
   "cell_type": "markdown",
   "id": "9584f069-2944-4ac4-be20-7a66940e7757",
   "metadata": {},
   "source": [
    "# 1 - Importation des librairies et des données"
   ]
  },
  {
   "cell_type": "markdown",
   "id": "f5d215f8-ffb6-4838-8289-cc907c933e30",
   "metadata": {},
   "source": [
    "## 1.1 - Importation des différentes librairies"
   ]
  },
  {
   "cell_type": "code",
   "execution_count": 1,
   "id": "ef9b683f-0555-4bd4-a0b5-a169d11b977e",
   "metadata": {},
   "outputs": [],
   "source": [
    "import mlflow\n",
    "import mlflow.sklearn\n",
    "\n",
    "# numpy and pandas for data manipulation\n",
    "import numpy as np\n",
    "import pandas as pd \n",
    "\n",
    "# File system manangement\n",
    "import os\n",
    "\n",
    "# Suppress warnings \n",
    "import warnings\n",
    "warnings.filterwarnings('ignore')\n",
    "\n",
    "# matplotlib and seaborn for plotting\n",
    "import matplotlib.pyplot as plt\n",
    "import seaborn as sns\n",
    "\n",
    "# Autres bibliothèques utiles :\n",
    "import time\n",
    "\n",
    "# Suppress warnings \n",
    "import warnings\n",
    "warnings.filterwarnings('ignore')\n",
    "\n",
    "from sklearn.linear_model import LogisticRegression\n",
    "from sklearn.metrics import roc_auc_score, accuracy_score\n",
    "from sklearn.model_selection import cross_validate"
   ]
  },
  {
   "cell_type": "code",
   "execution_count": 2,
   "id": "35609fc4-9dbf-4ee1-bbc5-c8c7c5e9f06e",
   "metadata": {},
   "outputs": [],
   "source": [
    "# On va démarrer le chronomètre :\n",
    "start = time.time()"
   ]
  },
  {
   "cell_type": "markdown",
   "id": "7fcd2652-a2a3-46d2-a3aa-46e6c1163bd9",
   "metadata": {},
   "source": [
    "## 1.2 - Importation des données"
   ]
  },
  {
   "cell_type": "code",
   "execution_count": 3,
   "id": "28505460-542d-4252-bccd-619dfbfc5464",
   "metadata": {},
   "outputs": [
    {
     "data": {
      "text/plain": [
       "<Experiment: artifact_location='file:///Users/Gary/Documents/GitHub/P7_implementer_modele_scoring/mlruns/792830381958516671', creation_time=1726122940119, experiment_id='792830381958516671', last_update_time=1726122940119, lifecycle_stage='active', name='Home Credit Default Risk - Modelisation', tags={}>"
      ]
     },
     "execution_count": 3,
     "metadata": {},
     "output_type": "execute_result"
    }
   ],
   "source": [
    "# Initialiser MLFlow\n",
    "mlflow.set_experiment(\"Home Credit Default Risk - Modelisation\")"
   ]
  },
  {
   "cell_type": "code",
   "execution_count": null,
   "id": "fdb964a4-2bd4-4f41-a611-246f626b5f8b",
   "metadata": {},
   "outputs": [],
   "source": []
  },
  {
   "cell_type": "code",
   "execution_count": 4,
   "id": "1f55d07d-426b-4ad9-aab8-cb0a3ed8224c",
   "metadata": {},
   "outputs": [],
   "source": [
    "# Spécifions les différents chemins possibles\n",
    "directories = [\n",
    "    \"C:\\\\Users\\\\mauge\\\\Documents\\\\github\\\\P7_implementer_modele_scoring\",\n",
    "    \"/Users/Gary/Documents/GitHub/FormationData/DataScientist_P7/Projet+Mise+en+prod+-+home-credit-default-risk\",\n",
    "    \"/Users/Gary/Documents/GitHub/P7_implementer_modele_scoring\",\n",
    "    \"C:\\\\Users\\\\mauge\\\\OneDrive\\\\Bureau\\\\Projet+Mise+en+prod+-+home-credit-default-risk\"\n",
    "]"
   ]
  },
  {
   "cell_type": "code",
   "execution_count": 5,
   "id": "43e07c9b-3e41-49d0-a97d-906e79f7f0aa",
   "metadata": {},
   "outputs": [
    {
     "name": "stdout",
     "output_type": "stream",
     "text": [
      "Loading X_train.csv from /Users/Gary/Documents/GitHub/P7_implementer_modele_scoring/X_train.csv\n",
      "Loading y_train.csv from /Users/Gary/Documents/GitHub/P7_implementer_modele_scoring/y_train.csv\n",
      "Loading X_test.csv from /Users/Gary/Documents/GitHub/P7_implementer_modele_scoring/X_test.csv\n",
      "Loading y_test.csv from /Users/Gary/Documents/GitHub/P7_implementer_modele_scoring/y_test.csv\n"
     ]
    }
   ],
   "source": [
    "def load_csv(file_name, directory_options, **kwargs):\n",
    "    for directory in directory_options:\n",
    "        file_path = os.path.join(directory, file_name)\n",
    "        if os.path.exists(file_path):\n",
    "            print(f\"Loading {file_name} from {file_path}\")\n",
    "            return pd.read_csv(file_path, **kwargs)\n",
    "    print(f\"{file_name} not found in any of the specified directories.\")\n",
    "    return None\n",
    "\n",
    "# Chargement des fichiers\n",
    "#df_application_train = load_csv('df_final.csv', directories)\n",
    "X_train = load_csv('X_train.csv', directories)\n",
    "y_train = load_csv('y_train.csv', directories).values.ravel()\n",
    "X_test = load_csv('X_test.csv', directories)\n",
    "y_test = load_csv('y_test.csv', directories).values.ravel()"
   ]
  },
  {
   "cell_type": "code",
   "execution_count": 6,
   "id": "e0449633-5ae8-489d-af16-e69eb5d98b0e",
   "metadata": {},
   "outputs": [
    {
     "data": {
      "text/html": [
       "<div>\n",
       "<style scoped>\n",
       "    .dataframe tbody tr th:only-of-type {\n",
       "        vertical-align: middle;\n",
       "    }\n",
       "\n",
       "    .dataframe tbody tr th {\n",
       "        vertical-align: top;\n",
       "    }\n",
       "\n",
       "    .dataframe thead th {\n",
       "        text-align: right;\n",
       "    }\n",
       "</style>\n",
       "<table border=\"1\" class=\"dataframe\">\n",
       "  <thead>\n",
       "    <tr style=\"text-align: right;\">\n",
       "      <th></th>\n",
       "      <th>NAME_CONTRACT_TYPE</th>\n",
       "      <th>FLAG_OWN_CAR</th>\n",
       "      <th>FLAG_OWN_REALTY</th>\n",
       "      <th>CNT_CHILDREN</th>\n",
       "      <th>AMT_INCOME_TOTAL</th>\n",
       "      <th>AMT_CREDIT</th>\n",
       "      <th>AMT_ANNUITY</th>\n",
       "      <th>AMT_GOODS_PRICE</th>\n",
       "      <th>REGION_POPULATION_RELATIVE</th>\n",
       "      <th>DAYS_BIRTH</th>\n",
       "      <th>...</th>\n",
       "      <th>HOUSETYPE_MODE_terraced house</th>\n",
       "      <th>WALLSMATERIAL_MODE_Block</th>\n",
       "      <th>WALLSMATERIAL_MODE_Mixed</th>\n",
       "      <th>WALLSMATERIAL_MODE_Monolithic</th>\n",
       "      <th>WALLSMATERIAL_MODE_Others</th>\n",
       "      <th>WALLSMATERIAL_MODE_Panel</th>\n",
       "      <th>WALLSMATERIAL_MODE_Stone, brick</th>\n",
       "      <th>WALLSMATERIAL_MODE_Wooden</th>\n",
       "      <th>EMERGENCYSTATE_MODE_No</th>\n",
       "      <th>EMERGENCYSTATE_MODE_Yes</th>\n",
       "    </tr>\n",
       "  </thead>\n",
       "  <tbody>\n",
       "    <tr>\n",
       "      <th>0</th>\n",
       "      <td>0.0</td>\n",
       "      <td>0.0</td>\n",
       "      <td>1.0</td>\n",
       "      <td>0.0</td>\n",
       "      <td>0.001512</td>\n",
       "      <td>0.090287</td>\n",
       "      <td>0.090032</td>\n",
       "      <td>0.077441</td>\n",
       "      <td>0.256702</td>\n",
       "      <td>0.687292</td>\n",
       "      <td>...</td>\n",
       "      <td>0.0</td>\n",
       "      <td>0.0</td>\n",
       "      <td>0.0</td>\n",
       "      <td>0.0</td>\n",
       "      <td>0.0</td>\n",
       "      <td>0.0</td>\n",
       "      <td>1.0</td>\n",
       "      <td>0.0</td>\n",
       "      <td>1.0</td>\n",
       "      <td>0.0</td>\n",
       "    </tr>\n",
       "    <tr>\n",
       "      <th>1</th>\n",
       "      <td>0.0</td>\n",
       "      <td>0.0</td>\n",
       "      <td>0.0</td>\n",
       "      <td>0.0</td>\n",
       "      <td>0.002089</td>\n",
       "      <td>0.311736</td>\n",
       "      <td>0.132924</td>\n",
       "      <td>0.271605</td>\n",
       "      <td>0.045506</td>\n",
       "      <td>0.832143</td>\n",
       "      <td>...</td>\n",
       "      <td>0.0</td>\n",
       "      <td>1.0</td>\n",
       "      <td>0.0</td>\n",
       "      <td>0.0</td>\n",
       "      <td>0.0</td>\n",
       "      <td>0.0</td>\n",
       "      <td>0.0</td>\n",
       "      <td>0.0</td>\n",
       "      <td>1.0</td>\n",
       "      <td>0.0</td>\n",
       "    </tr>\n",
       "    <tr>\n",
       "      <th>2</th>\n",
       "      <td>1.0</td>\n",
       "      <td>1.0</td>\n",
       "      <td>1.0</td>\n",
       "      <td>0.0</td>\n",
       "      <td>0.000358</td>\n",
       "      <td>0.022472</td>\n",
       "      <td>0.020025</td>\n",
       "      <td>0.023569</td>\n",
       "      <td>0.135340</td>\n",
       "      <td>0.877380</td>\n",
       "      <td>...</td>\n",
       "      <td>0.0</td>\n",
       "      <td>0.0</td>\n",
       "      <td>0.0</td>\n",
       "      <td>0.0</td>\n",
       "      <td>0.0</td>\n",
       "      <td>0.0</td>\n",
       "      <td>0.0</td>\n",
       "      <td>0.0</td>\n",
       "      <td>0.0</td>\n",
       "      <td>0.0</td>\n",
       "    </tr>\n",
       "    <tr>\n",
       "      <th>3</th>\n",
       "      <td>0.0</td>\n",
       "      <td>0.0</td>\n",
       "      <td>1.0</td>\n",
       "      <td>0.0</td>\n",
       "      <td>0.000935</td>\n",
       "      <td>0.066837</td>\n",
       "      <td>0.109477</td>\n",
       "      <td>0.063973</td>\n",
       "      <td>0.107480</td>\n",
       "      <td>0.876567</td>\n",
       "      <td>...</td>\n",
       "      <td>0.0</td>\n",
       "      <td>0.0</td>\n",
       "      <td>0.0</td>\n",
       "      <td>0.0</td>\n",
       "      <td>0.0</td>\n",
       "      <td>0.0</td>\n",
       "      <td>0.0</td>\n",
       "      <td>0.0</td>\n",
       "      <td>0.0</td>\n",
       "      <td>0.0</td>\n",
       "    </tr>\n",
       "    <tr>\n",
       "      <th>4</th>\n",
       "      <td>0.0</td>\n",
       "      <td>0.0</td>\n",
       "      <td>1.0</td>\n",
       "      <td>0.0</td>\n",
       "      <td>0.000819</td>\n",
       "      <td>0.116854</td>\n",
       "      <td>0.078975</td>\n",
       "      <td>0.117845</td>\n",
       "      <td>0.393191</td>\n",
       "      <td>0.894951</td>\n",
       "      <td>...</td>\n",
       "      <td>0.0</td>\n",
       "      <td>0.0</td>\n",
       "      <td>0.0</td>\n",
       "      <td>0.0</td>\n",
       "      <td>0.0</td>\n",
       "      <td>0.0</td>\n",
       "      <td>0.0</td>\n",
       "      <td>0.0</td>\n",
       "      <td>0.0</td>\n",
       "      <td>0.0</td>\n",
       "    </tr>\n",
       "  </tbody>\n",
       "</table>\n",
       "<p>5 rows × 344 columns</p>\n",
       "</div>"
      ],
      "text/plain": [
       "   NAME_CONTRACT_TYPE  FLAG_OWN_CAR  FLAG_OWN_REALTY  CNT_CHILDREN  \\\n",
       "0                 0.0           0.0              1.0           0.0   \n",
       "1                 0.0           0.0              0.0           0.0   \n",
       "2                 1.0           1.0              1.0           0.0   \n",
       "3                 0.0           0.0              1.0           0.0   \n",
       "4                 0.0           0.0              1.0           0.0   \n",
       "\n",
       "   AMT_INCOME_TOTAL  AMT_CREDIT  AMT_ANNUITY  AMT_GOODS_PRICE  \\\n",
       "0          0.001512    0.090287     0.090032         0.077441   \n",
       "1          0.002089    0.311736     0.132924         0.271605   \n",
       "2          0.000358    0.022472     0.020025         0.023569   \n",
       "3          0.000935    0.066837     0.109477         0.063973   \n",
       "4          0.000819    0.116854     0.078975         0.117845   \n",
       "\n",
       "   REGION_POPULATION_RELATIVE  DAYS_BIRTH  ...  HOUSETYPE_MODE_terraced house  \\\n",
       "0                    0.256702    0.687292  ...                            0.0   \n",
       "1                    0.045506    0.832143  ...                            0.0   \n",
       "2                    0.135340    0.877380  ...                            0.0   \n",
       "3                    0.107480    0.876567  ...                            0.0   \n",
       "4                    0.393191    0.894951  ...                            0.0   \n",
       "\n",
       "   WALLSMATERIAL_MODE_Block  WALLSMATERIAL_MODE_Mixed  \\\n",
       "0                       0.0                       0.0   \n",
       "1                       1.0                       0.0   \n",
       "2                       0.0                       0.0   \n",
       "3                       0.0                       0.0   \n",
       "4                       0.0                       0.0   \n",
       "\n",
       "   WALLSMATERIAL_MODE_Monolithic  WALLSMATERIAL_MODE_Others  \\\n",
       "0                            0.0                        0.0   \n",
       "1                            0.0                        0.0   \n",
       "2                            0.0                        0.0   \n",
       "3                            0.0                        0.0   \n",
       "4                            0.0                        0.0   \n",
       "\n",
       "   WALLSMATERIAL_MODE_Panel  WALLSMATERIAL_MODE_Stone, brick  \\\n",
       "0                       0.0                              1.0   \n",
       "1                       0.0                              0.0   \n",
       "2                       0.0                              0.0   \n",
       "3                       0.0                              0.0   \n",
       "4                       0.0                              0.0   \n",
       "\n",
       "   WALLSMATERIAL_MODE_Wooden  EMERGENCYSTATE_MODE_No  EMERGENCYSTATE_MODE_Yes  \n",
       "0                        0.0                     1.0                      0.0  \n",
       "1                        0.0                     1.0                      0.0  \n",
       "2                        0.0                     0.0                      0.0  \n",
       "3                        0.0                     0.0                      0.0  \n",
       "4                        0.0                     0.0                      0.0  \n",
       "\n",
       "[5 rows x 344 columns]"
      ]
     },
     "execution_count": 6,
     "metadata": {},
     "output_type": "execute_result"
    }
   ],
   "source": [
    "X_train.head()"
   ]
  },
  {
   "cell_type": "markdown",
   "id": "2d3d27d2-a3dc-4059-b00f-d06e38066a07",
   "metadata": {},
   "source": [
    "# 2 - Premier modèle de prédiction"
   ]
  },
  {
   "cell_type": "markdown",
   "id": "38a9a7eb-69bc-4e7b-a034-6016f355ee6d",
   "metadata": {},
   "source": [
    "## 2.1 - Régression logistique"
   ]
  },
  {
   "cell_type": "markdown",
   "id": "da236a28-ecd3-4ed6-a6ed-44c7ee5c557d",
   "metadata": {},
   "source": [
    "Cette régression logistique va nous permettre d'avoir une base."
   ]
  },
  {
   "cell_type": "code",
   "execution_count": 7,
   "id": "84d6c17b-0184-4ae7-84dc-502f5fb168c5",
   "metadata": {},
   "outputs": [
    {
     "name": "stderr",
     "output_type": "stream",
     "text": [
      "/Users/Gary/opt/anaconda3/envs/DataScientist_Projet_7/lib/python3.11/site-packages/sklearn/linear_model/_logistic.py:460: ConvergenceWarning: lbfgs failed to converge (status=1):\n",
      "STOP: TOTAL NO. of ITERATIONS REACHED LIMIT.\n",
      "\n",
      "Increase the number of iterations (max_iter) or scale the data as shown in:\n",
      "    https://scikit-learn.org/stable/modules/preprocessing.html\n",
      "Please also refer to the documentation for alternative solver options:\n",
      "    https://scikit-learn.org/stable/modules/linear_model.html#logistic-regression\n",
      "  n_iter_i = _check_optimize_result(\n",
      "/Users/Gary/opt/anaconda3/envs/DataScientist_Projet_7/lib/python3.11/site-packages/sklearn/linear_model/_logistic.py:460: ConvergenceWarning: lbfgs failed to converge (status=1):\n",
      "STOP: TOTAL NO. of ITERATIONS REACHED LIMIT.\n",
      "\n",
      "Increase the number of iterations (max_iter) or scale the data as shown in:\n",
      "    https://scikit-learn.org/stable/modules/preprocessing.html\n",
      "Please also refer to the documentation for alternative solver options:\n",
      "    https://scikit-learn.org/stable/modules/linear_model.html#logistic-regression\n",
      "  n_iter_i = _check_optimize_result(\n",
      "2024/09/12 18:17:39 WARNING mlflow.models.model: Input example should be provided to infer model signature if the model signature is not provided when logging the model.\n"
     ]
    },
    {
     "name": "stdout",
     "output_type": "stream",
     "text": [
      "Accuracy_mean: 0.919371990049972\n"
     ]
    }
   ],
   "source": [
    "# Modèle simple\n",
    "model = LogisticRegression()\n",
    "\n",
    "# Test rapide avec seulement 2 folds\n",
    "with mlflow.start_run(run_name=\"Logistic Regression Test\"):\n",
    "    scores = cross_validate(model, X_train, y_train.ravel(), cv=2, \n",
    "                            scoring={'Accuracy': 'accuracy'},\n",
    "                            return_train_score=False, n_jobs=-1)\n",
    "    \n",
    "    # Calcul de la moyenne d'Accuracy\n",
    "    accuracy_mean = np.mean(scores['test_Accuracy'])\n",
    "    fit_time_mean = np.mean(scores['fit_time'])\n",
    "    score_time_mean = np.mean(scores['score_time'])\n",
    "\n",
    "    # Logging dans MLFlow\n",
    "    mlflow.log_param(\"Model\", \"Logistic Regression\")\n",
    "    mlflow.log_metric(\"Accuracy_mean\", accuracy_mean)\n",
    "    mlflow.log_metric(\"Fit_time_mean\", fit_time_mean)\n",
    "    mlflow.log_metric(\"Score_time_mean\", score_time_mean)\n",
    "    \n",
    "    # Enregistrement du modèle dans MLFlow\n",
    "    mlflow.sklearn.log_model(model, \"model\")\n",
    "\n",
    "# Résultat rapide\n",
    "print(f\"Accuracy_mean: {accuracy_mean}\")"
   ]
  },
  {
   "cell_type": "code",
   "execution_count": null,
   "id": "d95f109c-0b57-4275-a4a7-5c83ac6fc191",
   "metadata": {},
   "outputs": [],
   "source": [
    "mlflow.end_run()"
   ]
  },
  {
   "cell_type": "code",
   "execution_count": 7,
   "id": "5ef908e7-9f35-41be-99d0-7ae04aded9dc",
   "metadata": {},
   "outputs": [],
   "source": [
    "#mlflow.start_run(run_name=\"Modélisation 1\")"
   ]
  },
  {
   "cell_type": "code",
   "execution_count": 8,
   "id": "0d13d3fc-38d0-41a4-a223-a10eb7bbea02",
   "metadata": {},
   "outputs": [],
   "source": [
    "# Définition des modèles :\n",
    "models = {\n",
    "    'Régression logistique': LogisticRegression(max_iter=1000)\n",
    "}"
   ]
  },
  {
   "cell_type": "code",
   "execution_count": null,
   "id": "d01a5fb0-dbb4-4146-bac1-bb8d08a18010",
   "metadata": {},
   "outputs": [],
   "source": [
    "# Initialisation d'un DataFrame pour stocker les résultats\n",
    "results_df = pd.DataFrame(columns=['Model', 'AUC_mean', 'Accuracy_mean', 'Fit_time_mean', 'Score_time_mean'])\n",
    "\n",
    "# Évaluation de chaque modèle avec cross_validate\n",
    "for name, model in models.items():\n",
    "    with mlflow.start_run(run_name=name):\n",
    "        scores = cross_validate(model, X_train, y_train, cv=5, \n",
    "                                scoring={'AUC': 'roc_auc', 'Accuracy': 'accuracy'},\n",
    "                                return_train_score=False, n_jobs=-1)\n",
    "        \n",
    "        # Calcul des moyennes\n",
    "        auc_mean = np.mean(scores['test_AUC'])\n",
    "        accuracy_mean = np.mean(scores['test_Accuracy'])\n",
    "        fit_time_mean = np.mean(scores['fit_time'])\n",
    "        score_time_mean = np.mean(scores['score_time'])\n",
    "\n",
    "        # Logging dans MLFlow\n",
    "        mlflow.log_param(\"Model\", name)\n",
    "        mlflow.log_metric(\"AUC_mean\", auc_mean)\n",
    "        mlflow.log_metric(\"Accuracy_mean\", accuracy_mean)\n",
    "        mlflow.log_metric(\"Fit_time_mean\", fit_time_mean)\n",
    "        mlflow.log_metric(\"Score_time_mean\", score_time_mean)\n",
    "        \n",
    "        # Enregistrement du modèle dans MLFlow\n",
    "        mlflow.sklearn.log_model(model, \"model\")\n",
    "        \n",
    "        # Stockage dans DataFrame des résultats\n",
    "        new_row = pd.DataFrame({\n",
    "            'Model': [name],\n",
    "            'AUC_mean': [auc_mean],\n",
    "            'Accuracy_mean': [accuracy_mean],\n",
    "            'Fit_time_mean': [fit_time_mean],\n",
    "            'Score_time_mean': [score_time_mean]\n",
    "        })\n",
    "\n",
    "        results_df = pd.concat([results_df, new_row], ignore_index=True)\n",
    "\n",
    "# Affichage des résultats :\n",
    "print(results_df)"
   ]
  },
  {
   "cell_type": "code",
   "execution_count": 8,
   "id": "df569492-1c51-453c-9cfa-b94c30670b59",
   "metadata": {},
   "outputs": [],
   "source": [
    "mlflow.end_run()"
   ]
  },
  {
   "cell_type": "code",
   "execution_count": null,
   "id": "30dbd0f0-0b06-453f-80da-64908628a758",
   "metadata": {},
   "outputs": [],
   "source": []
  },
  {
   "cell_type": "code",
   "execution_count": null,
   "id": "f0493545-8a5b-4e33-a028-25c38b1355b4",
   "metadata": {},
   "outputs": [],
   "source": []
  },
  {
   "cell_type": "markdown",
   "id": "14ef5aaf-8c1a-491b-bda2-6fa8ac6e7634",
   "metadata": {},
   "source": [
    "## 2.2 - Régression Logistique après SMOTE"
   ]
  },
  {
   "cell_type": "markdown",
   "id": "d4d202ad-1a9e-4729-be81-eb879eb268d5",
   "metadata": {},
   "source": [
    "L'utilisation de **SMOTE** (*Synthetic Minority Over-sampling Technique*) est particulièrement utile lorsque l'on travaille avec des ensembles de données déséquilibrés. En data science, un ensemble de données est dit déséquilibré lorsque la répartition des classes dans la variable cible n'est pas équilibrée, c'est-à-dire que l'une des classes (par exemple, les cas de défaut de paiement) est beaucoup moins représentée que l'autre (les non-défauts).\n",
    "\n",
    "**Pourquoi utiliser SMOTE ?**\n",
    "\n",
    "1. **Déséquilibre des classes** : Lorsque les classes sont déséquilibrées, les algorithmes de machine learning ont tendance à biaiser leurs prédictions en faveur de la classe majoritaire. Par exemple, dans le cas d’un modèle de scoring de crédit, si les défauts de paiement (classe minoritaire) représentent seulement 5 % des observations, un modèle pourrait simplement prédire que tout le monde remboursera son prêt pour obtenir une haute précision (en ignorant totalement les 5 % de défauts).\n",
    "   \n",
    "2. **SMOTE pour rééquilibrer les classes** : SMOTE génère de nouvelles observations synthétiques pour la classe minoritaire en combinant plusieurs exemples existants proches dans l’espace des caractéristiques. Cela permet de rééquilibrer le jeu de données sans simplement dupliquer les observations, ce qui pourrait mener à de l'overfitting.\n",
    "\n",
    "3. **Amélioration des performances du modèle** :\n",
    "   - **Meilleure sensibilité aux classes minoritaires** : Grâce à SMOTE, notre modèle pourra mieux identifier les cas appartenant à la classe minoritaire (dans notre cas, les clients à risque de défaut de paiement).\n",
    "   - **Précision des prédictions** : Cela évite au modèle de donner une précision trompeuse en prédisant principalement la classe majoritaire. L'utilisation de métriques comme l'**AUC-ROC** ou le **F1-Score** devient également plus pertinente car elles tiennent compte des performances sur les deux classes.\n",
    "   \n",
    "4. **Limitation du biais du modèle** : Sans une correction comme SMOTE, le modèle risque de négliger la classe minoritaire et de mal gérer les faux négatifs (prédire qu'un client remboursera alors qu'il va faire défaut). Dans le contexte d'un modèle de scoring crédit, cela peut avoir des conséquences importantes sur le coût métier.\n",
    "\n",
    "**Comment fonctionne SMOTE ?**\n",
    "\n",
    "SMOTE fonctionne en trois étapes :\n",
    "1. **Sélection des points de la classe minoritaire**.\n",
    "2. **Création des observations synthétiques** : Pour chaque point de la classe minoritaire, SMOTE sélectionne les k plus proches voisins (en général 5). Ensuite, il génère un point synthétique sur la ligne qui relie l'exemple de la classe minoritaire sélectionné et l'un de ses voisins.\n",
    "3. **Ajout des nouvelles données au jeu d'entraînement** : Les observations synthétiques sont ajoutées au jeu d'entraînement, augmentant la proportion de la classe minoritaire."
   ]
  },
  {
   "cell_type": "code",
   "execution_count": null,
   "id": "9285984e-3481-445f-8913-cd17bdee51fc",
   "metadata": {},
   "outputs": [],
   "source": [
    "# Application de SMOTE sur les données d'entraînement\n",
    "smote = SMOTE(random_state=42)\n",
    "X_train_smote, y_train_smote = smote.fit_resample(X_train, y_train)"
   ]
  },
  {
   "cell_type": "code",
   "execution_count": null,
   "id": "7339f767-0909-4087-9135-bd95cffe6572",
   "metadata": {},
   "outputs": [],
   "source": [
    "# Définition des modèles :\n",
    "models = {\n",
    "    'Régression logistique après SMOTE': LogisticRegression(max_iter=1000)\n",
    "}"
   ]
  },
  {
   "cell_type": "code",
   "execution_count": null,
   "id": "fd923e55-3b8b-45cd-bf04-eeffef74dd15",
   "metadata": {},
   "outputs": [],
   "source": [
    "# Initialisation d'un DataFrame pour stocker les résultats\n",
    "results_df = pd.DataFrame(columns=['Model', 'AUC_mean', 'Accuracy_mean', 'Fit_time_mean', 'Score_time_mean'])\n",
    "\n",
    "# Évaluation de chaque modèle avec cross_validate\n",
    "for name, model in models.items():\n",
    "    with mlflow.start_run(run_name=name):\n",
    "        scores = cross_validate(model, X_train_smote, y_train_smote, cv=5, \n",
    "                                scoring={'AUC': 'roc_auc', 'Accuracy': 'accuracy'},\n",
    "                                return_train_score=False, n_jobs=-1)\n",
    "        \n",
    "        # Calcul des moyennes\n",
    "        auc_mean = np.mean(scores['test_AUC'])\n",
    "        accuracy_mean = np.mean(scores['test_Accuracy'])\n",
    "        fit_time_mean = np.mean(scores['fit_time'])\n",
    "        score_time_mean = np.mean(scores['score_time'])\n",
    "\n",
    "        # Logging dans MLFlow\n",
    "        mlflow.log_param(\"Model\", name)\n",
    "        mlflow.log_metric(\"AUC_mean\", auc_mean)\n",
    "        mlflow.log_metric(\"Accuracy_mean\", accuracy_mean)\n",
    "        mlflow.log_metric(\"Fit_time_mean\", fit_time_mean)\n",
    "        mlflow.log_metric(\"Score_time_mean\", score_time_mean)\n",
    "        \n",
    "        # Enregistrement du modèle dans MLFlow\n",
    "        mlflow.sklearn.log_model(model, \"model\")\n",
    "        \n",
    "        # Stockage dans DataFrame des résultats\n",
    "        new_row = pd.DataFrame({\n",
    "            'Model': [name],\n",
    "            'AUC_mean': [auc_mean],\n",
    "            'Accuracy_mean': [accuracy_mean],\n",
    "            'Fit_time_mean': [fit_time_mean],\n",
    "            'Score_time_mean': [score_time_mean]\n",
    "        })\n",
    "\n",
    "        results_df = pd.concat([results_df, new_row], ignore_index=True)\n",
    "\n",
    "# Affichage des résultats :\n",
    "print(results_df)"
   ]
  },
  {
   "cell_type": "code",
   "execution_count": null,
   "id": "176bb7a8-a15a-4aeb-83e6-2e0cb8da94e6",
   "metadata": {},
   "outputs": [],
   "source": [
    "mlflow.end_run()"
   ]
  },
  {
   "cell_type": "code",
   "execution_count": null,
   "id": "d90eab0e-968b-4105-8a7b-f90ec9ca0917",
   "metadata": {},
   "outputs": [],
   "source": []
  },
  {
   "cell_type": "code",
   "execution_count": null,
   "id": "22ab34cc-e699-4d42-9a8d-b9e800c65f78",
   "metadata": {},
   "outputs": [],
   "source": []
  },
  {
   "cell_type": "code",
   "execution_count": null,
   "id": "70f213f1-1eb9-4fa4-8db1-430e6adc2a53",
   "metadata": {},
   "outputs": [],
   "source": [
    "elapsed_time = time.time() - start  # Calcule le temps écoulé\n",
    "print(f\"Temps total d'exécution du notebook : {elapsed_time:.2f} secondes.\")"
   ]
  }
 ],
 "metadata": {
  "kernelspec": {
   "display_name": "Python 3 (ipykernel)",
   "language": "python",
   "name": "python3"
  },
  "language_info": {
   "codemirror_mode": {
    "name": "ipython",
    "version": 3
   },
   "file_extension": ".py",
   "mimetype": "text/x-python",
   "name": "python",
   "nbconvert_exporter": "python",
   "pygments_lexer": "ipython3",
   "version": "3.11.9"
  }
 },
 "nbformat": 4,
 "nbformat_minor": 5
}
